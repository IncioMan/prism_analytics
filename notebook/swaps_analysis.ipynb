{
 "cells": [
  {
   "cell_type": "code",
   "execution_count": 14,
   "metadata": {
    "scrolled": true
   },
   "outputs": [],
   "source": [
    "import pandas as pd\n",
    "import altair as alt\n",
    "import warnings\n",
    "import matplotlib\n",
    "warnings.filterwarnings(\"ignore\")\n",
    "alt.renderers.set_embed_options(theme='light')\n",
    "pd.set_option(\"display.max_colwidth\", 400)\n",
    "pd.set_option(\"display.max_rows\", 400)\n",
    "matplotlib.rcParams['figure.figsize'] = (14.0, 5.0)\n"
   ]
  },
  {
   "cell_type": "markdown",
   "metadata": {},
   "source": [
    "Trend line of what yLUNA is being used for?  PRISM Farm, yLUNA Staking, LPing, or Nothing."
   ]
  },
  {
   "cell_type": "code",
   "execution_count": 2,
   "metadata": {},
   "outputs": [],
   "source": [
    "prism_addr = 'terra1dh9478k2qvqhqeajhn75a2a7dsnf74y5ukregw'\n",
    "yluna_addr = 'terra17wkadg0tah554r35x6wvff0y5s7ve8npcjfuhz'\n",
    "pluna_addr = 'terra1tlgelulz9pdkhls6uglfn5lmxarx7f2gxtdzh2'\n",
    "pLuna_PRISM_Pair = 'terra1persuahr6f8fm6nyup0xjc7aveaur89nwgs5vs'\n",
    "yLuna_PRISM_Pair = 'terra1kqc65n5060rtvcgcktsxycdt2a4r67q2zlvhce'\n",
    "PRISM_cLUNA_Pair = 'terra1yxgq5y6mw30xy9mmvz9mllneddy9jaxndrphvk'\n",
    "PRISM_UST_Pair = 'terra19d2alknajcngdezrdhq40h6362k92kz23sz62u'\n",
    "PRISM_xPRISM_Pair = 'terra1czynvm64nslq2xxavzyrrhau09smvana003nrf'\n",
    "PRISM_LUNA_Pair = 'terra1r38qlqt69lez4nja5h56qwf4drzjpnu8gz04jd'"
   ]
  },
  {
   "cell_type": "code",
   "execution_count": 3,
   "metadata": {},
   "outputs": [],
   "source": [
    "pool_pairs = [pLuna_PRISM_Pair,yLuna_PRISM_Pair,PRISM_cLUNA_Pair,PRISM_LUNA_Pair,PRISM_UST_Pair,PRISM_xPRISM_Pair]"
   ]
  },
  {
   "cell_type": "code",
   "execution_count": 4,
   "metadata": {},
   "outputs": [],
   "source": [
    "def claim(claim_hash):\n",
    "    df = pd.read_json(\n",
    "            f\"https://api.flipsidecrypto.com/api/v2/queries/{claim_hash}/data/latest\",\n",
    "            convert_dates=[\"BLOCK_TIMESTAMP\"])\n",
    "    df.columns = [c.lower() for c in df.columns]\n",
    "    return df"
   ]
  },
  {
   "cell_type": "code",
   "execution_count": 5,
   "metadata": {},
   "outputs": [],
   "source": [
    "def get_url(url):\n",
    "    return pd.read_csv(url, index_col=0)"
   ]
  },
  {
   "cell_type": "code",
   "execution_count": 6,
   "metadata": {},
   "outputs": [],
   "source": [
    "class SwapsDataProvider:\n",
    "    def __init__(self, claim, get_url, path_to_data='../data'):\n",
    "        self.swaps = '1bfd8019-89a1-470d-8868-60d71e57d1d0'\n",
    "        self.router = '69b149fb-81ba-4860-aac1-b17f0d6d7688'\n",
    "        self.claim = claim\n",
    "        self.get_url = get_url\n",
    "        self.path_to_data = path_to_data\n",
    "            \n",
    "    def load(self):\n",
    "        self.load_from_url()\n",
    "        self.load_from_csv()\n",
    "        self.swaps_df.columns = [c.lower() for c in self.swaps_df.columns]\n",
    "        self.swaps_df_from_csv.columns = [c.lower() for c in self.swaps_df_from_csv.columns]\n",
    "        self.router_df_from_csv.columns = [c.lower() for c in self.router_df_from_csv.columns]\n",
    "        self.router_df.columns = [c.lower() for c in self.router_df.columns]\n",
    "        self.swaps_df = self.swaps_df.append(self.swaps_df_from_csv).drop_duplicates()\n",
    "        self.router_df = self.router_df.append(self.router_df_from_csv).drop_duplicates()\n",
    "            \n",
    "    def load_from_url(self):\n",
    "        self.swaps_df = self.claim(self.swaps)\n",
    "        self.router_df = self.claim(self.router)\n",
    "        \n",
    "    def write_to_csv(self):\n",
    "        self.swaps_df.to_csv(f'{self.path_to_data}/swaps.csv')\n",
    "        self.router_df.to_csv(f'{self.path_to_data}/router.csv')\n",
    "        \n",
    "    def load_from_csv(self):\n",
    "        self.swaps_df_from_csv = pd.read_csv(f'{self.path_to_data}/swaps.csv', index_col=0)\n",
    "        self.router_df_from_csv = pd.read_csv(f'{self.path_to_data}/router.csv', index_col=0)\n",
    "        \n",
    "    def parse_simple_swaps(self):\n",
    "        self.swaps_df.columns = [c.lower() for c in self.swaps_df.columns]\n",
    "        swaps_df = self.swaps_df[self.swaps_df.ask_asset != '']\n",
    "        swaps_df = swaps_df[swaps_df.sender.notna()]\n",
    "        swaps_df_pol = swaps_df.rename(columns={'sender':'user','ask_asset':'asset_received','offer_asset':'asset_given'})\n",
    "        swaps_df_pol = swaps_df_pol[['block_timestamp','tx_id','price','user','asset_received','return_amount','asset_given','offer_amount']]\n",
    "        swaps_df_pol['operation'] = 'swap'\n",
    "        self.swaps_df_pol = swaps_df_pol.drop_duplicates(['tx_id','asset_given','asset_received'],ignore_index=True)\n",
    "        \n",
    "    def parse_router(self):\n",
    "        self.router_df.columns = [c.lower() for c in self.router_df.columns]\n",
    "        router_df = self.router_df.rename(columns={'sender':'user'})\n",
    "        router_df_1 = router_df[['block_timestamp','tx_id','0_ask_asset','0_offer_amount','0_offer_asset','0_price','0_return_amount','user']]\n",
    "        router_df_1 = router_df_1.rename(columns={'0_ask_asset':'asset_received','0_offer_amount':'offer_amount',\n",
    "                           '0_price':'price','0_return_amount':'return_amount','0_offer_asset':'asset_given'})\n",
    "        router_df_2 = router_df[['block_timestamp','tx_id','1_ask_asset','1_offer_amount','1_offer_asset','1_price','1_return_amount','user']]\n",
    "        router_df_2 = router_df_2.rename(columns={'1_ask_asset':'asset_received','1_offer_amount':'offer_amount',\n",
    "                           '1_price':'price','1_return_amount':'return_amount','1_offer_asset':'asset_given'})\n",
    "        router_df_pol = router_df_1.append(router_df_2)\n",
    "        router_df_pol['operation'] = 'swap'\n",
    "        self.router_df_pol = router_df_pol.drop_duplicates(['tx_id','asset_given','asset_received'],ignore_index=True)\n",
    "    \n",
    "    def parse(self):\n",
    "        self.parse_simple_swaps()\n",
    "        self.parse_router()\n",
    "        self.swaps_df_all = self.router_df_pol.append(self.swaps_df_pol[self.router_df_pol.columns]).drop_duplicates(['tx_id','asset_given','asset_received'],ignore_index=True)\n",
    "        self.swaps_df_all.block_timestamp=self.swaps_df_all.block_timestamp.apply(str).apply(lambda x: x[:-4] if len(x) == 23 else x)\n",
    "        self.swaps_df_all.block_timestamp=self.swaps_df_all.block_timestamp.apply(str).apply(lambda x: x[:-3] if len(x) == 22 else x)\n",
    "        self.swaps_df_all.block_timestamp=self.swaps_df_all.block_timestamp.apply(str).apply(lambda x: x[:-7] if len(x) == 26 else x)\n",
    "        self.swaps_df_all['hr'] = self.swaps_df_all.block_timestamp.str[:-5] + '00:00.000'\n",
    "        self.swaps_df_all['day'] = self.swaps_df_all.block_timestamp.str[:-9]\n",
    "        #\n",
    "        yluna_swaps = self.swaps_df_all[(self.swaps_df_all.asset_given=='yLUNA')|(self.swaps_df_all.asset_received=='yLUNA')]\n",
    "        yluna_swaps['amount_signed'] = yluna_swaps.apply(lambda row: row.offer_amount if row.asset_given == 'yLUNA' else -row.return_amount,axis=1)\n",
    "        yluna_swaps['type'] = 'swap'\n",
    "        self.yluna_swaps = yluna_swaps.drop_duplicates(ignore_index=True)\n",
    "        #\n",
    "        pluna_swaps = self.swaps_df_all[(self.swaps_df_all.asset_given=='pLUNA')|(self.swaps_df_all.asset_received=='pLUNA')]\n",
    "        pluna_swaps['amount_signed'] = pluna_swaps.apply(lambda row: row.offer_amount if row.asset_given == 'pLUNA' else -row.return_amount,axis=1)\n",
    "        pluna_swaps['type'] = 'swap'\n",
    "        self.pluna_swaps = pluna_swaps.drop_duplicates(ignore_index=True)\n",
    "        "
   ]
  },
  {
   "cell_type": "code",
   "execution_count": 7,
   "metadata": {},
   "outputs": [],
   "source": [
    "class LPDataProvider:\n",
    "    def __init__(self, claim, get_url, path_to_data='../data'):\n",
    "        self.lp_provide_withdraw = '7f5c7008-648a-4944-9fe9-e6c37e2e7bb8'\n",
    "        self.claim = claim\n",
    "        self.get_url = get_url\n",
    "        self.path_to_data = path_to_data\n",
    "            \n",
    "    def load(self):\n",
    "        self.load_from_url()\n",
    "        self.load_from_csv()\n",
    "        self.lp_provide_withdraw_df.columns = [c.lower() for c in self.lp_provide_withdraw_df.columns]\n",
    "        self.lp_provide_withdraw_df_from_csv.columns = [c.lower() for c in self.lp_provide_withdraw_df_from_csv.columns]\n",
    "        self.lp_provide_withdraw_df = self.lp_provide_withdraw_df.append(self.lp_provide_withdraw_df_from_csv).drop_duplicates()\n",
    "            \n",
    "    def load_from_url(self):\n",
    "        self.lp_provide_withdraw_df = self.claim(self.lp_provide_withdraw)\n",
    "        \n",
    "    def write_to_csv(self):\n",
    "        self.lp_provide_withdraw_df.to_csv(f'{self.path_to_data}/lp_provide_withdraw.csv')\n",
    "        \n",
    "    def load_from_csv(self):\n",
    "        self.lp_provide_withdraw_df_from_csv = pd.read_csv(f'{self.path_to_data}/lp_provide_withdraw.csv', index_col=0)\n",
    "        \n",
    "    def get_action(self, row):\n",
    "        for i in range(-1,6):\n",
    "            prefix = f\"{i}_\" if i >= 0 else \"\"\n",
    "            if(f'{prefix}action' in row):\n",
    "                if(row[f'{prefix}action'] in ['provide_liquidity','withdraw_liquidity']):\n",
    "                    return row[f'{prefix}action']\n",
    "                \n",
    "    def get_n_action(self, row):\n",
    "        for i in range(-1,6):\n",
    "            prefix = f\"{i}_\" if i >= 0 else \"\"\n",
    "            if(f'{prefix}action' in row):\n",
    "                if(row[f'{prefix}action'] in ['provide_liquidity','withdraw_liquidity']):\n",
    "                    return f'{prefix}'\n",
    "                \n",
    "    def correct_parsing(self, row):\n",
    "        if (row.prefix == '1_' and row.f_action == 'withdraw_liquidity') or \\\n",
    "            (row.prefix == '0_' and row.f_action == 'provide_liquidity'):\n",
    "            return False\n",
    "        else:\n",
    "            return True\n",
    "                \n",
    "    def parse(self):\n",
    "        self.lp_provide_withdraw_df.columns = [c.lower() for c in self.lp_provide_withdraw_df.columns]\n",
    "        df = self.lp_provide_withdraw_df\n",
    "        df['f_action'] = df.apply(self.get_action,axis=1)\n",
    "        df['prefix'] = df.apply(self.get_n_action,axis=1)\n",
    "        df.block_timestamp=df.block_timestamp.apply(str).apply(lambda x: x[:-4] if len(x) == 23 else x)\n",
    "        df.block_timestamp=df.block_timestamp.apply(str).apply(lambda x: x[:-3] if len(x) == 22 else x)\n",
    "        df.block_timestamp=df.block_timestamp.apply(str).apply(lambda x: x[:-7] if len(x) == 26 else x) \n",
    "        df['f_contract_address'] = df.apply(lambda row: row[f'{row.prefix}contract_address'], axis=1)\n",
    "        df['asset'] = df.apply(lambda row: 'yLuna' if row.f_contract_address=='terra1kqc65n5060rtvcgcktsxycdt2a4r67q2zlvhce' \\\n",
    "                                    else 'pLuna', axis=1)\n",
    "        assert df.apply(self.correct_parsing , axis=1).sum() == 0\n",
    "        provide_ = df[df.f_action=='provide_liquidity']\n",
    "        withdraw_ = df[df.f_action=='withdraw_liquidity']\n",
    "        #\n",
    "        provide_['prism_amount'] = provide_.apply(lambda row: row['2_amount'] if row['1_contract_address'] == prism_addr else row['3_amount'],axis=1)\n",
    "        provide_['asset_amount'] = provide_.apply(lambda row: row['1_amount'] if row['2_contract_address'] in [yluna_addr,pluna_addr] else row['2_amount'],axis=1)\n",
    "        provide_['sender'] = provide_['from_']\n",
    "        provide_['hr'] = provide_.block_timestamp.str[:-5] + '00:00.000'\n",
    "        provide_['day'] = provide_.block_timestamp.str[:-9]\n",
    "        provide_ = provide_[['block_timestamp','sender','tx_id','f_action','prism_amount','asset','asset_amount','hr','day']]\n",
    "        provide_['amount_signed'] = provide_.asset_amount\n",
    "        provide_['type'] = 'provide_lp'\n",
    "        self.provide_ = provide_.drop_duplicates(ignore_index=True).drop_duplicates(['tx_id','asset'],ignore_index=True)\n",
    "        #\n",
    "        withdraw_['prism_amount'] = withdraw_.apply(lambda row: row['1_amount'] if row['2_contract_address'] == prism_addr else row['2_amount'],axis=1)\n",
    "        withdraw_['asset_amount'] = withdraw_.apply(lambda row: row['2_amount'] if row['3_contract_address'] in [yluna_addr,pluna_addr] else row['1_amount'],axis=1)\n",
    "        withdraw_['sender'] = withdraw_['from_']\n",
    "        withdraw_['hr'] = withdraw_.block_timestamp.str[:-5] + '00:00.000'\n",
    "        withdraw_['day'] = withdraw_.block_timestamp.str[:-9]\n",
    "        withdraw_ = withdraw_[['block_timestamp','sender','tx_id','f_action','prism_amount','asset','asset_amount','hr','day']]\n",
    "        withdraw_['amount_signed'] = -withdraw_.asset_amount\n",
    "        withdraw_['type'] = 'withdraw_lp'\n",
    "        self.withdraw_ = withdraw_.drop_duplicates(ignore_index=True).drop_duplicates(['tx_id','asset'],ignore_index=True)"
   ]
  },
  {
   "cell_type": "code",
   "execution_count": 8,
   "metadata": {},
   "outputs": [],
   "source": [
    "class DataProvider:\n",
    "    def __init__(self, asset_name, path_to_data='../data'):\n",
    "        self.path_to_data = path_to_data\n",
    "        self.asset_name = asset_name\n",
    "        self.dates_to_mark = pd.DataFrame([\n",
    "            ['2022-02-13', '2022-02-13',2000000,'Prism Forge'], \n",
    "            ['2022-03-06', '2022-03-06',2400000,'Prism Farm']], \n",
    "            columns=['text_date','date','height','text']\n",
    "        )\n",
    "    def lp_delta(self, withdraw_, provide_, yluna_swaps, collector_df):\n",
    "        self.all_lps = withdraw_[['day','amount_signed','tx_id','type','block_timestamp']]\\\n",
    "                            .append(provide_[['day','amount_signed','tx_id','type','block_timestamp']])\\\n",
    "                            .append(yluna_swaps[['day','amount_signed','tx_id','type','block_timestamp']])\\\n",
    "                            .append(collector_df[['day','amount_signed','tx_id','type','block_timestamp']]).drop_duplicates(ignore_index=True)\n",
    "        daily_delta_lp = self.all_lps.groupby('day').amount_signed.sum().reset_index()\n",
    "        daily_delta_lp = daily_delta_lp.sort_values(by='day')\n",
    "        daily_delta_lp['cumsum'] = daily_delta_lp.amount_signed.cumsum().apply(lambda x: round(x,2))\n",
    "        daily_delta_lp.columns = ['Time', 'Amount signed', 'Amount']\n",
    "        daily_delta_lp['Type'] = f'{self.asset_name} LP'\n",
    "        self.daily_delta_lp = daily_delta_lp\n",
    "        \n",
    "    def stk_farm_delta(self, ystaking_farm_df):\n",
    "        daily_delta_stk_farm = ystaking_farm_df.groupby('day').amount_signed.sum().reset_index()\n",
    "        daily_delta_stk_farm = daily_delta_stk_farm.sort_values(by='day')\n",
    "        daily_delta_stk_farm['cumsum'] = daily_delta_stk_farm.amount_signed.cumsum().apply(lambda x: round(x,2))\n",
    "        daily_delta_stk_farm.columns = ['Time', 'Amount signed', 'Amount']\n",
    "        daily_delta_stk_farm['Type'] = f'{self.asset_name} Farm staked'\n",
    "        self.daily_delta_stk_farm = daily_delta_stk_farm\n",
    "        \n",
    "    def stk_delta(self, ystaking_df):\n",
    "        daily_delta_stk = ystaking_df.groupby('day').amount_signed.sum().reset_index()\n",
    "        daily_delta_stk = daily_delta_stk.sort_values(by='day')\n",
    "        daily_delta_stk['cumsum'] = daily_delta_stk.amount_signed.cumsum().apply(lambda x: round(x,2))\n",
    "        daily_delta_stk.columns = ['Time', 'Amount signed', 'Amount']\n",
    "        daily_delta_stk['Type'] = f'{self.asset_name} staked'\n",
    "        self.daily_delta_stk = daily_delta_stk\n",
    "        \n",
    "    def refact_delta(self, all_refreact):\n",
    "        daily_delta_rf = all_refreact.groupby('day').amount_signed.sum().reset_index()\n",
    "        daily_delta_rf = daily_delta_rf.sort_values(by='day')\n",
    "        daily_delta_rf['cumsum'] = daily_delta_rf.amount_signed.cumsum().apply(lambda x: round(x,2))\n",
    "        daily_delta_rf.columns = ['Time', 'Amount signed', 'Amount']\n",
    "        daily_delta_rf['Type'] = f'{self.asset_name} circulating'\n",
    "        self.daily_delta_rf = daily_delta_rf\n",
    "    \n",
    "    def unused_asset(self, all_deltas):\n",
    "        self.asset_used = all_deltas[self.all_deltas.Type.isin([f'{self.asset_name} LP',f'{self.asset_name} staked',f'{self.asset_name} Farm staked'])]\n",
    "        asset_tot = self.all_deltas[self.all_deltas.Type.isin([f'{self.asset_name} circulating'])]\n",
    "        asset_unused = self.asset_used.groupby('Time').Amount.sum().rename('Amount_used').reset_index().merge(asset_tot, on='Time')\n",
    "        asset_unused['Amount_delta'] = asset_unused['Amount'] - asset_unused['Amount_used']\n",
    "        asset_unused['Amount_delta'] = asset_unused['Amount_delta'].apply(lambda x: x if x>0 else 0)\n",
    "        asset_unused = asset_unused[['Time','Amount signed','Amount_delta','Type']]\n",
    "        asset_unused['Type'] = f'{self.asset_name} unused'\n",
    "        asset_unused.columns = ['Time','Amount signed','Amount','Type']\n",
    "        self.asset_unused = asset_unused\n",
    "        \n",
    "    def all_delta(self):\n",
    "        self.all_deltas = self.daily_delta_rf.append(self.daily_delta_lp)\n",
    "        try:\n",
    "            self.all_deltas = self.all_deltas.append(self.daily_delta_stk)\n",
    "        except:\n",
    "            pass\n",
    "        try:\n",
    "            self.all_deltas = self.all_deltas.append(self.daily_delta_stk_farm)\n",
    "        except:\n",
    "            pass\n",
    "        \n",
    "    def fill_date_gaps(self, dff, extra_dates=[]):\n",
    "        dd = dff.Time.unique()\n",
    "        dd = [*dd,*extra_dates]\n",
    "        unique_dates = pd.Series(dd).rename('Time').reset_index().drop(columns='index')\n",
    "        for t in dff.Type.unique():\n",
    "            df = dff[dff.Type==t]\n",
    "            last_date = df.Time.max()\n",
    "            last_value = df[df.Time==last_date].Amount.values[0]\n",
    "            df = df.merge(unique_dates, on='Time', how='right')\n",
    "            df = df[df.Type.isna()]\n",
    "            if(len(df)>0):\n",
    "                df['Type'] = t\n",
    "                df['Amount'] = df.apply(lambda row: last_value if row.Time>last_date else 0,axis=1)\n",
    "            dff = dff.append(df.fillna(0))\n",
    "        return dff\n"
   ]
  },
  {
   "cell_type": "code",
   "execution_count": 9,
   "metadata": {},
   "outputs": [],
   "source": [
    "swaps_dp = SwapsDataProvider(claim,get_url,'../data')\n",
    "#swaps_dp.load_from_url()\n",
    "swaps_dp.load()\n",
    "swaps_dp.write_to_csv()\n",
    "swaps_dp.parse()"
   ]
  },
  {
   "cell_type": "code",
   "execution_count": 10,
   "metadata": {},
   "outputs": [],
   "source": [
    "lp_dp = LPDataProvider(claim,get_url,'../data')\n",
    "#lp_dp.load_from_url()\n",
    "lp_dp.load()\n",
    "lp_dp.write_to_csv()\n",
    "lp_dp.parse()"
   ]
  },
  {
   "cell_type": "markdown",
   "metadata": {},
   "source": [
    "# Analysis"
   ]
  },
  {
   "cell_type": "code",
   "execution_count": 100,
   "metadata": {
    "scrolled": false
   },
   "outputs": [],
   "source": [
    "df = swaps_dp.swaps_df_all\n",
    "df = df[(df.day > '2022-03-01')&(df.asset_given=='xPRISM')]"
   ]
  },
  {
   "cell_type": "code",
   "execution_count": 101,
   "metadata": {},
   "outputs": [
    {
     "data": {
      "text/plain": [
       "Index(['block_timestamp', 'tx_id', 'asset_received', 'offer_amount',\n",
       "       'asset_given', 'price', 'return_amount', 'user', 'operation', 'hr',\n",
       "       'day'],\n",
       "      dtype='object')"
      ]
     },
     "execution_count": 101,
     "metadata": {},
     "output_type": "execute_result"
    }
   ],
   "source": [
    "df.columns"
   ]
  },
  {
   "cell_type": "code",
   "execution_count": 102,
   "metadata": {
    "scrolled": false
   },
   "outputs": [
    {
     "data": {
      "text/plain": [
       "[Text(0.5, 1.0, ''), Text(0, 0.5, 'xPRISM')]"
      ]
     },
     "execution_count": 102,
     "metadata": {},
     "output_type": "execute_result"
    },
    {
     "data": {
      "image/png": "[encoded data removed]",
      "text/plain": [
       "<Figure size 1008x360 with 1 Axes>"
      ]
     },
     "metadata": {
      "needs_background": "light"
     },
     "output_type": "display_data"
    }
   ],
   "source": [
    "ax = df[['day','offer_amount']].boxplot(by='day', showfliers=False, rot=30)\n",
    "ax.set(title='', ylabel='xPRISM')"
   ]
  },
  {
   "cell_type": "code",
   "execution_count": 103,
   "metadata": {},
   "outputs": [],
   "source": [
    "df = df[(df.day == '2022-03-28')&(df.asset_given=='xPRISM')]"
   ]
  },
  {
   "cell_type": "code",
   "execution_count": 104,
   "metadata": {},
   "outputs": [],
   "source": [
    "df = df.groupby('user').offer_amount.sum().reset_index()\n",
    "df['user_complete'] = df['user']\n",
    "df['user'] = df['user'].str[0:10]+'...'+df['user'].str[-10:]"
   ]
  },
  {
   "cell_type": "code",
   "execution_count": 105,
   "metadata": {},
   "outputs": [
    {
     "data": {
      "text/plain": [
       "<AxesSubplot:ylabel='user'>"
      ]
     },
     "execution_count": 105,
     "metadata": {},
     "output_type": "execute_result"
    },
    {
     "data": {
      "image/png": "[encoded data removed]",
      "text/plain": [
       "<Figure size 1008x360 with 1 Axes>"
      ]
     },
     "metadata": {
      "needs_background": "light"
     },
     "output_type": "display_data"
    }
   ],
   "source": [
    "top_sellers = df.sort_values(by='offer_amount', ascending=False)\n",
    "top_sellers.set_index('user').offer_amount.head(10).plot(kind='barh')"
   ]
  },
  {
   "cell_type": "code",
   "execution_count": 106,
   "metadata": {},
   "outputs": [],
   "source": [
    "top_sellers = top_sellers.head()"
   ]
  },
  {
   "cell_type": "code",
   "execution_count": 112,
   "metadata": {
    "scrolled": false
   },
   "outputs": [
    {
     "data": {
      "text/html": [
       "<div>\n",
       "<style scoped>\n",
       "    .dataframe tbody tr th:only-of-type {\n",
       "        vertical-align: middle;\n",
       "    }\n",
       "\n",
       "    .dataframe tbody tr th {\n",
       "        vertical-align: top;\n",
       "    }\n",
       "\n",
       "    .dataframe thead th {\n",
       "        text-align: right;\n",
       "    }\n",
       "</style>\n",
       "<table border=\"1\" class=\"dataframe\">\n",
       "  <thead>\n",
       "    <tr style=\"text-align: right;\">\n",
       "      <th></th>\n",
       "      <th>block_timestamp</th>\n",
       "      <th>tx_id</th>\n",
       "      <th>asset_received</th>\n",
       "      <th>offer_amount</th>\n",
       "      <th>asset_given</th>\n",
       "      <th>price</th>\n",
       "      <th>return_amount</th>\n",
       "      <th>user</th>\n",
       "      <th>operation</th>\n",
       "      <th>hr</th>\n",
       "      <th>day</th>\n",
       "    </tr>\n",
       "  </thead>\n",
       "  <tbody>\n",
       "    <tr>\n",
       "      <th>79097</th>\n",
       "      <td>2022-03-28 15:15:30</td>\n",
       "      <td>0748FCEB848960ACA8E6AF33B5560A9FCF4EB5544360EE9D5065120AFD17D2DF</td>\n",
       "      <td>NaN</td>\n",
       "      <td>NaN</td>\n",
       "      <td>NaN</td>\n",
       "      <td>NaN</td>\n",
       "      <td>NaN</td>\n",
       "      <td>terra1jtmpyx3wdpswham92nzatwpwc6h4ulkv2xrdaa</td>\n",
       "      <td>swap</td>\n",
       "      <td>2022-03-28 15:00:00.000</td>\n",
       "      <td>2022-03-28</td>\n",
       "    </tr>\n",
       "    <tr>\n",
       "      <th>79202</th>\n",
       "      <td>2022-03-28 15:27:20</td>\n",
       "      <td>DBAE46E38325559EA015C43CD3655126E4D3E5E8DBDA4736F668A4B74BAB59C9</td>\n",
       "      <td>NaN</td>\n",
       "      <td>NaN</td>\n",
       "      <td>NaN</td>\n",
       "      <td>NaN</td>\n",
       "      <td>NaN</td>\n",
       "      <td>terra1jtmpyx3wdpswham92nzatwpwc6h4ulkv2xrdaa</td>\n",
       "      <td>swap</td>\n",
       "      <td>2022-03-28 15:00:00.000</td>\n",
       "      <td>2022-03-28</td>\n",
       "    </tr>\n",
       "    <tr>\n",
       "      <th>79491</th>\n",
       "      <td>2022-03-28 16:58:12</td>\n",
       "      <td>BDD9A221844B7837578AC7EC7385222AD9FB8F4CD26BB1A7462EDD57C6E34ADD</td>\n",
       "      <td>NaN</td>\n",
       "      <td>NaN</td>\n",
       "      <td>NaN</td>\n",
       "      <td>NaN</td>\n",
       "      <td>NaN</td>\n",
       "      <td>terra1jtmpyx3wdpswham92nzatwpwc6h4ulkv2xrdaa</td>\n",
       "      <td>swap</td>\n",
       "      <td>2022-03-28 16:00:00.000</td>\n",
       "      <td>2022-03-28</td>\n",
       "    </tr>\n",
       "    <tr>\n",
       "      <th>80027</th>\n",
       "      <td>2022-03-28 15:48:31</td>\n",
       "      <td>59222FF33F50DB972C8C5872176B03F3F26F0D122F0486FF5B23001B8BAFA601</td>\n",
       "      <td>NaN</td>\n",
       "      <td>NaN</td>\n",
       "      <td>NaN</td>\n",
       "      <td>NaN</td>\n",
       "      <td>NaN</td>\n",
       "      <td>terra1jtmpyx3wdpswham92nzatwpwc6h4ulkv2xrdaa</td>\n",
       "      <td>swap</td>\n",
       "      <td>2022-03-28 15:00:00.000</td>\n",
       "      <td>2022-03-28</td>\n",
       "    </tr>\n",
       "    <tr>\n",
       "      <th>80052</th>\n",
       "      <td>2022-03-28 16:17:18</td>\n",
       "      <td>EAB2BAEE1E99107FFCA083FB32D0AE272A36CACDDB7994164C7A02E1B1116089</td>\n",
       "      <td>NaN</td>\n",
       "      <td>NaN</td>\n",
       "      <td>NaN</td>\n",
       "      <td>NaN</td>\n",
       "      <td>NaN</td>\n",
       "      <td>terra1jtmpyx3wdpswham92nzatwpwc6h4ulkv2xrdaa</td>\n",
       "      <td>swap</td>\n",
       "      <td>2022-03-28 16:00:00.000</td>\n",
       "      <td>2022-03-28</td>\n",
       "    </tr>\n",
       "  </tbody>\n",
       "</table>\n",
       "</div>"
      ],
      "text/plain": [
       "           block_timestamp  \\\n",
       "79097  2022-03-28 15:15:30   \n",
       "79202  2022-03-28 15:27:20   \n",
       "79491  2022-03-28 16:58:12   \n",
       "80027  2022-03-28 15:48:31   \n",
       "80052  2022-03-28 16:17:18   \n",
       "\n",
       "                                                                  tx_id  \\\n",
       "79097  0748FCEB848960ACA8E6AF33B5560A9FCF4EB5544360EE9D5065120AFD17D2DF   \n",
       "79202  DBAE46E38325559EA015C43CD3655126E4D3E5E8DBDA4736F668A4B74BAB59C9   \n",
       "79491  BDD9A221844B7837578AC7EC7385222AD9FB8F4CD26BB1A7462EDD57C6E34ADD   \n",
       "80027  59222FF33F50DB972C8C5872176B03F3F26F0D122F0486FF5B23001B8BAFA601   \n",
       "80052  EAB2BAEE1E99107FFCA083FB32D0AE272A36CACDDB7994164C7A02E1B1116089   \n",
       "\n",
       "      asset_received  offer_amount asset_given  price  return_amount  \\\n",
       "79097            NaN           NaN         NaN    NaN            NaN   \n",
       "79202            NaN           NaN         NaN    NaN            NaN   \n",
       "79491            NaN           NaN         NaN    NaN            NaN   \n",
       "80027            NaN           NaN         NaN    NaN            NaN   \n",
       "80052            NaN           NaN         NaN    NaN            NaN   \n",
       "\n",
       "                                               user operation  \\\n",
       "79097  terra1jtmpyx3wdpswham92nzatwpwc6h4ulkv2xrdaa      swap   \n",
       "79202  terra1jtmpyx3wdpswham92nzatwpwc6h4ulkv2xrdaa      swap   \n",
       "79491  terra1jtmpyx3wdpswham92nzatwpwc6h4ulkv2xrdaa      swap   \n",
       "80027  terra1jtmpyx3wdpswham92nzatwpwc6h4ulkv2xrdaa      swap   \n",
       "80052  terra1jtmpyx3wdpswham92nzatwpwc6h4ulkv2xrdaa      swap   \n",
       "\n",
       "                            hr         day  \n",
       "79097  2022-03-28 15:00:00.000  2022-03-28  \n",
       "79202  2022-03-28 15:00:00.000  2022-03-28  \n",
       "79491  2022-03-28 16:00:00.000  2022-03-28  \n",
       "80027  2022-03-28 15:00:00.000  2022-03-28  \n",
       "80052  2022-03-28 16:00:00.000  2022-03-28  "
      ]
     },
     "execution_count": 112,
     "metadata": {},
     "output_type": "execute_result"
    }
   ],
   "source": [
    "df = swaps_dp.swaps_df_all\n",
    "df = df[(df.day == '2022-03-28')&(df.user=='terra1jtmpyx3wdpswham92nzatwpwc6h4ulkv2xrdaa')]\n",
    "df.head()"
   ]
  },
  {
   "cell_type": "code",
   "execution_count": 108,
   "metadata": {},
   "outputs": [],
   "source": [
    "amps = pd.read_csv('../data/amps/amps_20220327.csv', index_col=0)"
   ]
  },
  {
   "cell_type": "code",
   "execution_count": 113,
   "metadata": {},
   "outputs": [
    {
     "data": {
      "text/plain": [
       "count        0.000006\n",
       "mean        84.292469\n",
       "std       1000.612811\n",
       "min          0.000000\n",
       "25%          0.014025\n",
       "50%          2.077265\n",
       "75%         17.149038\n",
       "max      61173.645193\n",
       "Name: active_boost, dtype: object"
      ]
     },
     "execution_count": 113,
     "metadata": {},
     "output_type": "execute_result"
    }
   ],
   "source": [
    "(amps.active_boost.describe()/1000000000).apply(lambda x: format(x, 'f'))"
   ]
  },
  {
   "cell_type": "code",
   "execution_count": 119,
   "metadata": {},
   "outputs": [
    {
     "data": {
      "text/plain": [
       "0.90      78.836280\n",
       "0.95     201.043977\n",
       "0.99    1334.822947\n",
       "Name: active_boost, dtype: float64"
      ]
     },
     "execution_count": 119,
     "metadata": {},
     "output_type": "execute_result"
    }
   ],
   "source": [
    "(amps.active_boost/1000000000).quantile([0.9,0.95,0.99])"
   ]
  },
  {
   "cell_type": "code",
   "execution_count": 110,
   "metadata": {},
   "outputs": [
    {
     "data": {
      "text/html": [
       "<div>\n",
       "<style scoped>\n",
       "    .dataframe tbody tr th:only-of-type {\n",
       "        vertical-align: middle;\n",
       "    }\n",
       "\n",
       "    .dataframe tbody tr th {\n",
       "        vertical-align: top;\n",
       "    }\n",
       "\n",
       "    .dataframe thead th {\n",
       "        text-align: right;\n",
       "    }\n",
       "</style>\n",
       "<table border=\"1\" class=\"dataframe\">\n",
       "  <thead>\n",
       "    <tr style=\"text-align: right;\">\n",
       "      <th></th>\n",
       "      <th>addr</th>\n",
       "      <th>active_boost</th>\n",
       "    </tr>\n",
       "  </thead>\n",
       "  <tbody>\n",
       "    <tr>\n",
       "      <th>175</th>\n",
       "      <td>terra1y5c7zwhlagjvk04mqd54rdw3sdk83hvxjjf8d3</td>\n",
       "      <td>7328.341167</td>\n",
       "    </tr>\n",
       "    <tr>\n",
       "      <th>458</th>\n",
       "      <td>terra1mujx82t28as537835qm22a0s0zszmafm2l8y9r</td>\n",
       "      <td>84.849126</td>\n",
       "    </tr>\n",
       "    <tr>\n",
       "      <th>262</th>\n",
       "      <td>terra1ztdmjrvjrhgsee3zf3aatjfy3q93lnu57s47e8</td>\n",
       "      <td>9898.686228</td>\n",
       "    </tr>\n",
       "    <tr>\n",
       "      <th>517</th>\n",
       "      <td>terra1ydjntynf3zhlv2fwh54cxh37q0qc5ax3zfmajf</td>\n",
       "      <td>0.000000</td>\n",
       "    </tr>\n",
       "  </tbody>\n",
       "</table>\n",
       "</div>"
      ],
      "text/plain": [
       "                                             addr  active_boost\n",
       "175  terra1y5c7zwhlagjvk04mqd54rdw3sdk83hvxjjf8d3   7328.341167\n",
       "458  terra1mujx82t28as537835qm22a0s0zszmafm2l8y9r     84.849126\n",
       "262  terra1ztdmjrvjrhgsee3zf3aatjfy3q93lnu57s47e8   9898.686228\n",
       "517  terra1ydjntynf3zhlv2fwh54cxh37q0qc5ax3zfmajf      0.000000"
      ]
     },
     "execution_count": 110,
     "metadata": {},
     "output_type": "execute_result"
    }
   ],
   "source": [
    "addr_amps = amps[amps.addr.isin(top_sellers.user_complete)][['addr','active_boost']]\n",
    "addr_amps['active_boost'] = addr_amps['active_boost']/1000000000\n",
    "addr_amps"
   ]
  },
  {
   "cell_type": "code",
   "execution_count": 77,
   "metadata": {},
   "outputs": [
    {
     "data": {
      "text/html": [
       "<div>\n",
       "<style scoped>\n",
       "    .dataframe tbody tr th:only-of-type {\n",
       "        vertical-align: middle;\n",
       "    }\n",
       "\n",
       "    .dataframe tbody tr th {\n",
       "        vertical-align: top;\n",
       "    }\n",
       "\n",
       "    .dataframe thead th {\n",
       "        text-align: right;\n",
       "    }\n",
       "</style>\n",
       "<table border=\"1\" class=\"dataframe\">\n",
       "  <thead>\n",
       "    <tr style=\"text-align: right;\">\n",
       "      <th></th>\n",
       "      <th>active_boost</th>\n",
       "    </tr>\n",
       "  </thead>\n",
       "  <tbody>\n",
       "    <tr>\n",
       "      <th>968</th>\n",
       "      <td>22.995134</td>\n",
       "    </tr>\n",
       "  </tbody>\n",
       "</table>\n",
       "</div>"
      ],
      "text/plain": [
       "     active_boost\n",
       "968     22.995134"
      ]
     },
     "execution_count": 77,
     "metadata": {},
     "output_type": "execute_result"
    }
   ],
   "source": [
    "amps[amps.addr=='terra12j6p3tausehd7495as98vql74p0f9t2ahnafsv'][['active_boost']]/1000000000"
   ]
  },
  {
   "cell_type": "code",
   "execution_count": 114,
   "metadata": {},
   "outputs": [
    {
     "data": {
      "text/plain": [
       "62.543584587"
      ]
     },
     "execution_count": 114,
     "metadata": {},
     "output_type": "execute_result"
    }
   ],
   "source": [
    "62543584587/1000000000"
   ]
  },
  {
   "cell_type": "code",
   "execution_count": 73,
   "metadata": {},
   "outputs": [
    {
     "data": {
      "text/plain": [
       "610     terra1jtmp...ulkv2xrdaa\n",
       "398     terra1cwk4...qd9h5c2qgk\n",
       "404     terra1d8f8...m0kuet33vr\n",
       "1095    terra1ztdm...lnu57s47e8\n",
       "358     terra1as8j...r45chfhqwn\n",
       "Name: user, dtype: object"
      ]
     },
     "execution_count": 73,
     "metadata": {},
     "output_type": "execute_result"
    }
   ],
   "source": [
    "top_sellers.user_complete"
   ]
  },
  {
   "cell_type": "code",
   "execution_count": null,
   "metadata": {},
   "outputs": [],
   "source": []
  }
 ],
 "metadata": {
  "kernelspec": {
   "display_name": "Python 3 (ipykernel)",
   "language": "python",
   "name": "python3"
  },
  "language_info": {
   "codemirror_mode": {
    "name": "ipython",
    "version": 3
   },
   "file_extension": ".py",
   "mimetype": "text/x-python",
   "name": "python",
   "nbconvert_exporter": "python",
   "pygments_lexer": "ipython3",
   "version": "3.9.7"
  }
 },
 "nbformat": 4,
 "nbformat_minor": 4
}
