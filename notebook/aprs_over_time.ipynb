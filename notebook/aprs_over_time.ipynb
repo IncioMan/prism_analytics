{
 "cells": [
  {
   "cell_type": "code",
   "execution_count": 132,
   "id": "a7236a8b",
   "metadata": {},
   "outputs": [],
   "source": [
    "import pandas as pd\n",
    "import altair as alt\n",
    "import warnings\n",
    "import numpy as np\n",
    "import requests\n",
    "warnings.filterwarnings(\"ignore\")\n",
    "alt.renderers.set_embed_options(theme='light')\n",
    "pd.set_option(\"display.max_colwidth\", 400)\n",
    "pd.set_option(\"display.max_rows\", 400)\n"
   ]
  },
  {
   "cell_type": "code",
   "execution_count": 133,
   "id": "72c2f5d7",
   "metadata": {},
   "outputs": [],
   "source": [
    "def claim(claim_hash):\n",
    "    df = pd.read_json(\n",
    "            f\"https://api.flipsidecrypto.com/api/v2/queries/{claim_hash}/data/latest\",\n",
    "            convert_dates=[\"BLOCK_TIMESTAMP\"])\n",
    "    df.columns = [c.lower() for c in df.columns]\n",
    "    return df"
   ]
  },
  {
   "cell_type": "code",
   "execution_count": 157,
   "id": "e9cd6cc1",
   "metadata": {},
   "outputs": [],
   "source": [
    "class APRDataProvider:\n",
    "    \n",
    "    def __init__(self, claim):\n",
    "        self.yluna_price = 'e49168df-26f3-4972-b8c2-309e34e41072'\n",
    "        self.luna_price = '571e7540-b3cb-458f-82c3-43aae00feae7'\n",
    "        self.claim = claim\n",
    "        \n",
    "    def load(self):\n",
    "        yluna_price_df = self.claim(self.yluna_price)\n",
    "        yluna_price_df.columns = [c.lower() for c in yluna_price_df.columns]\n",
    "        luna_price_df = self.claim(self.luna_price)\n",
    "        luna_price_df.columns = [c.lower() for c in luna_price_df.columns]\n",
    "        luna_price_df = luna_price_df.rename(columns={'price':'luna_price'})\n",
    "        self.yluna_price_df = yluna_price_df\n",
    "        self.luna_price_df = luna_price_df\n",
    "        \n",
    "        et_query = requests.get(\n",
    "            'https://api.extraterrestrial.money/v1/api/prices').json()\n",
    "        yluna_price = float(et_query['prices']['yLUNA']['price'])\n",
    "        farm_query = requests.get(\n",
    "            \"https://lcd.terra.dev/terra/wasm/v1beta1/contracts/terra1p7jp8vlt57cf8qwazjg58qngwvarmszsamzaru/store?query_msg=ewogICJyZXdhcmRfaW5mbyI6IHsKICAgICJzdGFrZXJfYWRkciI6ICJ0ZXJyYTFuczVuc3Z0ZHh1NTNkd2R0aHkzeXhzNngzdzJoZjNmY2xoemxsYyIKICB9Cn0=\"\n",
    "        ).json()\n",
    "\n",
    "        yluna_bonded = float(farm_query['query_result']['staked_amount']) / 1e6\n",
    "        prism_price = float(et_query['prices']['PRISM']['price'])\n",
    "        self.last_yluna_farm = 104_000_000 * prism_price / (yluna_price *\n",
    "                                                              yluna_bonded) * 100\n",
    "        \n",
    "    def parse(self, ystaking_farm_df):\n",
    "        yluna = self.yluna_price_df[self.yluna_price_df.offer_asset=='yLuna']\n",
    "        prism = self.yluna_price_df[self.yluna_price_df.offer_asset=='PRISM']\n",
    "        df = yluna.merge(prism, on='day', suffixes=['_yluna','_prism'])\n",
    "        df['yluna_price'] = (1/df.belief_price_prism) / df.belief_price_yluna\n",
    "        prices = df\n",
    "        prices = prices.merge(self.luna_price_df, on='day')[['day','yluna_price','belief_price_prism','luna_price']]\n",
    "        prices['day'] = prices['day'].apply(lambda x: x[:-13])\n",
    "        self.prices = prices\n",
    "        \n",
    "        df = pd.DataFrame(requests.get('https://api.terra.dev/chart/staking-return/annualized').json())\n",
    "        df['date'] = pd.to_datetime(df['datetime'], unit='ms')\n",
    "        df = df[df['date'] > '2021-07-05 15:00:00']\n",
    "        df['day'] = df.date.apply(str)\n",
    "        df.value = df.value.apply(float).apply(lambda x: x*100)\n",
    "        self.staking_apr = df\n",
    "        self.staking_apr = self.staking_apr.rename(columns={'value':'apr'})\n",
    "        self.staking_apr['day'] = self.staking_apr['day'].apply(lambda x: x[:-9])\n",
    "        \n",
    "        prices_apr = self.prices.merge(self.staking_apr, on='day')\n",
    "        prices_apr['yluna_apr'] = prices_apr.apr * prices_apr.luna_price / prices_apr.yluna_price\n",
    "        yluna_apr = prices_apr[['day','yluna_apr']]\n",
    "        yluna_apr.columns = ['Day','APR (%)']\n",
    "        yluna_apr['Staking Strategy'] = 'yLUNA normal staking'\n",
    "        luna_apr = prices_apr[['day','apr']]\n",
    "        luna_apr.columns = ['Day','APR (%)']\n",
    "        luna_apr['Staking Strategy'] = 'LUNA native staking'\n",
    "        self.prices_apr = prices_apr\n",
    "        \n",
    "        yluna_farm_daily = ystaking_farm_df.groupby('day').amount_signed.sum().cumsum().reset_index()\n",
    "        df = self.prices_apr\n",
    "        df = df.merge(yluna_farm_daily,on='day',how='left').fillna(0)\n",
    "        df['farm_apr'] = ((104000000*(1/df.belief_price_prism))/(df.amount_signed*df.yluna_price))\n",
    "        df['farm_apr'] = df['farm_apr'].replace([np.inf, -np.inf], 0)*100\n",
    "        farm_apr = df[['day','farm_apr']]\n",
    "        farm_apr.columns = ['Day','APR (%)']\n",
    "        farm_apr['Staking Strategy'] = 'yLUNA staking in Prism Farm'\n",
    "        \n",
    "        self.aprs = yluna_apr.append(luna_apr).append(farm_apr)\n",
    "        self.aprs['APR (%)'] = self.aprs['APR (%)'].apply(lambda x: round(x,2))"
   ]
  },
  {
   "cell_type": "code",
   "execution_count": 158,
   "id": "cbb63b6a",
   "metadata": {},
   "outputs": [],
   "source": [
    "class APRSChart:\n",
    "    \n",
    "    def chart(aprs):\n",
    "        return alt.Chart(aprs).mark_line(point=True).encode(\n",
    "                 x=alt.X('Day:T', sort=alt.EncodingSortField(order='ascending')),\n",
    "                 y=\"APR (%):Q\",\n",
    "                color=alt.Color('Staking Strategy:N', \n",
    "                                scale=alt.Scale(scheme='set2'),\n",
    "                                legend=alt.Legend(\n",
    "                                        orient='top-left',\n",
    "                                        padding=5,\n",
    "                                        legendY=0,\n",
    "                                        direction='vertical')),\n",
    "                tooltip=[alt.Tooltip('Day:T', format='%Y-%m-%d'), 'Staking Strategy', 'APR (%)']\n",
    "            ).properties(width=700).configure_axisX(\n",
    "                labelAngle=0\n",
    "            ).configure_view(strokeOpacity=0)"
   ]
  },
  {
   "cell_type": "code",
   "execution_count": 159,
   "id": "855f54a3",
   "metadata": {},
   "outputs": [],
   "source": [
    "def get_url(url):\n",
    "    return pd.read_csv(url, index_col=0)"
   ]
  },
  {
   "cell_type": "code",
   "execution_count": 160,
   "id": "c415f8d4",
   "metadata": {},
   "outputs": [],
   "source": [
    "dp = APRDataProvider(claim)\n",
    "dp.load()"
   ]
  },
  {
   "cell_type": "code",
   "execution_count": 161,
   "id": "8b567480",
   "metadata": {},
   "outputs": [
    {
     "data": {
      "text/plain": [
       "37.452739302112406"
      ]
     },
     "execution_count": 161,
     "metadata": {},
     "output_type": "execute_result"
    }
   ],
   "source": [
    "dp.last_yluna_farm"
   ]
  },
  {
   "cell_type": "code",
   "execution_count": 138,
   "id": "4ed04d27",
   "metadata": {},
   "outputs": [],
   "source": [
    "ydp = YLunaStakingDataProvider(claim,get_url, path_to_data='../data')\n",
    "ydp.load()\n",
    "ydp.parse()"
   ]
  },
  {
   "cell_type": "code",
   "execution_count": 139,
   "id": "85e2f93c",
   "metadata": {},
   "outputs": [],
   "source": [
    "dp.parse(ydp.ystaking_farm_df)"
   ]
  },
  {
   "cell_type": "code",
   "execution_count": 151,
   "id": "18242aba",
   "metadata": {},
   "outputs": [
    {
     "data": {
      "text/plain": [
       "40.76"
      ]
     },
     "execution_count": 151,
     "metadata": {},
     "output_type": "execute_result"
    }
   ],
   "source": [
    "dp.aprs[(dp.aprs.Day==dp.aprs.Day.max())\\\n",
    "            &(dp.aprs['Staking Strategy']=='yLUNA staking in Prism Farm')]\\\n",
    "            ['APR (%)'].values[0]"
   ]
  },
  {
   "cell_type": "markdown",
   "id": "c48c5f2f",
   "metadata": {},
   "source": [
    "## Query"
   ]
  },
  {
   "cell_type": "code",
   "execution_count": 140,
   "id": "a81f2de3",
   "metadata": {},
   "outputs": [
    {
     "data": {
      "text/html": [
       "\n",
       "<div id=\"altair-viz-543c5d10bb904682850376347ee5e22c\"></div>\n",
       "<script type=\"text/javascript\">\n",
       "  var VEGA_DEBUG = (typeof VEGA_DEBUG == \"undefined\") ? {} : VEGA_DEBUG;\n",
       "  (function(spec, embedOpt){\n",
       "    let outputDiv = document.currentScript.previousElementSibling;\n",
       "    if (outputDiv.id !== \"altair-viz-543c5d10bb904682850376347ee5e22c\") {\n",
       "      outputDiv = document.getElementById(\"altair-viz-543c5d10bb904682850376347ee5e22c\");\n",
       "    }\n",
       "    const paths = {\n",
       "      \"vega\": \"https://cdn.jsdelivr.net/npm//vega@5?noext\",\n",
       "      \"vega-lib\": \"https://cdn.jsdelivr.net/npm//vega-lib?noext\",\n",
       "      \"vega-lite\": \"https://cdn.jsdelivr.net/npm//vega-lite@4.17.0?noext\",\n",
       "      \"vega-embed\": \"https://cdn.jsdelivr.net/npm//vega-embed@6?noext\",\n",
       "    };\n",
       "\n",
       "    function maybeLoadScript(lib, version) {\n",
       "      var key = `${lib.replace(\"-\", \"\")}_version`;\n",
       "      return (VEGA_DEBUG[key] == version) ?\n",
       "        Promise.resolve(paths[lib]) :\n",
       "        new Promise(function(resolve, reject) {\n",
       "          var s = document.createElement('script');\n",
       "          document.getElementsByTagName(\"head\")[0].appendChild(s);\n",
       "          s.async = true;\n",
       "          s.onload = () => {\n",
       "            VEGA_DEBUG[key] = version;\n",
       "            return resolve(paths[lib]);\n",
       "          };\n",
       "          s.onerror = () => reject(`Error loading script: ${paths[lib]}`);\n",
       "          s.src = paths[lib];\n",
       "        });\n",
       "    }\n",
       "\n",
       "    function showError(err) {\n",
       "      outputDiv.innerHTML = `<div class=\"error\" style=\"color:red;\">${err}</div>`;\n",
       "      throw err;\n",
       "    }\n",
       "\n",
       "    function displayChart(vegaEmbed) {\n",
       "      vegaEmbed(outputDiv, spec, embedOpt)\n",
       "        .catch(err => showError(`Javascript Error: ${err.message}<br>This usually means there's a typo in your chart specification. See the javascript console for the full traceback.`));\n",
       "    }\n",
       "\n",
       "    if(typeof define === \"function\" && define.amd) {\n",
       "      requirejs.config({paths});\n",
       "      require([\"vega-embed\"], displayChart, err => showError(`Error loading script: ${err.message}`));\n",
       "    } else {\n",
       "      maybeLoadScript(\"vega\", \"5\")\n",
       "        .then(() => maybeLoadScript(\"vega-lite\", \"4.17.0\"))\n",
       "        .then(() => maybeLoadScript(\"vega-embed\", \"6\"))\n",
       "        .catch(showError)\n",
       "        .then(() => displayChart(vegaEmbed));\n",
       "    }\n",
       "  })({\"config\": {\"view\": {\"continuousWidth\": 400, \"continuousHeight\": 300, \"strokeOpacity\": 0}, \"axisX\": {\"labelAngle\": 0}}, \"data\": {\"name\": \"data-954f989e4abe0e23b1858682cdcfc41c\"}, \"mark\": {\"type\": \"line\", \"point\": true}, \"encoding\": {\"color\": {\"field\": \"Staking Strategy\", \"legend\": {\"direction\": \"vertical\", \"legendY\": 0, \"orient\": \"top-left\", \"padding\": 5}, \"scale\": {\"scheme\": \"set2\"}, \"type\": \"nominal\"}, \"tooltip\": [{\"field\": \"Day\", \"format\": \"%Y-%m-%d\", \"type\": \"temporal\"}, {\"field\": \"Staking Strategy\", \"type\": \"nominal\"}, {\"field\": \"APR (%)\", \"type\": \"quantitative\"}], \"x\": {\"field\": \"Day\", \"sort\": {\"order\": \"ascending\"}, \"type\": \"temporal\"}, \"y\": {\"field\": \"APR (%)\", \"type\": \"quantitative\"}}, \"width\": 700, \"$schema\": \"https://vega.github.io/schema/vega-lite/v4.17.0.json\", \"datasets\": {\"data-954f989e4abe0e23b1858682cdcfc41c\": [{\"Day\": \"2022-02-19\", \"APR (%)\": 12.61, \"Staking Strategy\": \"yLUNA normal staking\"}, {\"Day\": \"2022-03-18\", \"APR (%)\": 9.49, \"Staking Strategy\": \"yLUNA normal staking\"}, {\"Day\": \"2022-02-22\", \"APR (%)\": 12.03, \"Staking Strategy\": \"yLUNA normal staking\"}, {\"Day\": \"2022-02-20\", \"APR (%)\": 12.57, \"Staking Strategy\": \"yLUNA normal staking\"}, {\"Day\": \"2022-02-24\", \"APR (%)\": 10.87, \"Staking Strategy\": \"yLUNA normal staking\"}, {\"Day\": \"2022-02-15\", \"APR (%)\": 14.38, \"Staking Strategy\": \"yLUNA normal staking\"}, {\"Day\": \"2022-03-02\", \"APR (%)\": 9.67, \"Staking Strategy\": \"yLUNA normal staking\"}, {\"Day\": \"2022-02-28\", \"APR (%)\": 9.35, \"Staking Strategy\": \"yLUNA normal staking\"}, {\"Day\": \"2022-03-04\", \"APR (%)\": 8.91, \"Staking Strategy\": \"yLUNA normal staking\"}, {\"Day\": \"2022-02-25\", \"APR (%)\": 10.61, \"Staking Strategy\": \"yLUNA normal staking\"}, {\"Day\": \"2022-02-16\", \"APR (%)\": 13.53, \"Staking Strategy\": \"yLUNA normal staking\"}, {\"Day\": \"2022-03-05\", \"APR (%)\": 8.38, \"Staking Strategy\": \"yLUNA normal staking\"}, {\"Day\": \"2022-03-17\", \"APR (%)\": 9.36, \"Staking Strategy\": \"yLUNA normal staking\"}, {\"Day\": \"2022-02-27\", \"APR (%)\": 10.06, \"Staking Strategy\": \"yLUNA normal staking\"}, {\"Day\": \"2022-02-23\", \"APR (%)\": 11.11, \"Staking Strategy\": \"yLUNA normal staking\"}, {\"Day\": \"2022-03-11\", \"APR (%)\": 9.16, \"Staking Strategy\": \"yLUNA normal staking\"}, {\"Day\": \"2022-03-08\", \"APR (%)\": 7.86, \"Staking Strategy\": \"yLUNA normal staking\"}, {\"Day\": \"2022-03-12\", \"APR (%)\": 9.13, \"Staking Strategy\": \"yLUNA normal staking\"}, {\"Day\": \"2022-03-10\", \"APR (%)\": 8.29, \"Staking Strategy\": \"yLUNA normal staking\"}, {\"Day\": \"2022-03-16\", \"APR (%)\": 9.48, \"Staking Strategy\": \"yLUNA normal staking\"}, {\"Day\": \"2022-03-14\", \"APR (%)\": 9.11, \"Staking Strategy\": \"yLUNA normal staking\"}, {\"Day\": \"2022-03-01\", \"APR (%)\": 9.24, \"Staking Strategy\": \"yLUNA normal staking\"}, {\"Day\": \"2022-03-13\", \"APR (%)\": 9.15, \"Staking Strategy\": \"yLUNA normal staking\"}, {\"Day\": \"2022-02-21\", \"APR (%)\": 12.2, \"Staking Strategy\": \"yLUNA normal staking\"}, {\"Day\": \"2022-03-06\", \"APR (%)\": 8.39, \"Staking Strategy\": \"yLUNA normal staking\"}, {\"Day\": \"2022-03-09\", \"APR (%)\": 8.39, \"Staking Strategy\": \"yLUNA normal staking\"}, {\"Day\": \"2022-02-14\", \"APR (%)\": 20.02, \"Staking Strategy\": \"yLUNA normal staking\"}, {\"Day\": \"2022-03-07\", \"APR (%)\": 8.2, \"Staking Strategy\": \"yLUNA normal staking\"}, {\"Day\": \"2022-03-03\", \"APR (%)\": 9.03, \"Staking Strategy\": \"yLUNA normal staking\"}, {\"Day\": \"2022-02-26\", \"APR (%)\": 10.29, \"Staking Strategy\": \"yLUNA normal staking\"}, {\"Day\": \"2022-02-17\", \"APR (%)\": 13.77, \"Staking Strategy\": \"yLUNA normal staking\"}, {\"Day\": \"2022-03-15\", \"APR (%)\": 9.25, \"Staking Strategy\": \"yLUNA normal staking\"}, {\"Day\": \"2022-02-18\", \"APR (%)\": 12.74, \"Staking Strategy\": \"yLUNA normal staking\"}, {\"Day\": \"2022-02-19\", \"APR (%)\": 9.11, \"Staking Strategy\": \"LUNA native staking\"}, {\"Day\": \"2022-03-18\", \"APR (%)\": 7.16, \"Staking Strategy\": \"LUNA native staking\"}, {\"Day\": \"2022-02-22\", \"APR (%)\": 8.93, \"Staking Strategy\": \"LUNA native staking\"}, {\"Day\": \"2022-02-20\", \"APR (%)\": 9.07, \"Staking Strategy\": \"LUNA native staking\"}, {\"Day\": \"2022-02-24\", \"APR (%)\": 8.32, \"Staking Strategy\": \"LUNA native staking\"}, {\"Day\": \"2022-02-15\", \"APR (%)\": 9.54, \"Staking Strategy\": \"LUNA native staking\"}, {\"Day\": \"2022-03-02\", \"APR (%)\": 7.36, \"Staking Strategy\": \"LUNA native staking\"}, {\"Day\": \"2022-02-28\", \"APR (%)\": 7.75, \"Staking Strategy\": \"LUNA native staking\"}, {\"Day\": \"2022-03-04\", \"APR (%)\": 7.05, \"Staking Strategy\": \"LUNA native staking\"}, {\"Day\": \"2022-02-25\", \"APR (%)\": 8.21, \"Staking Strategy\": \"LUNA native staking\"}, {\"Day\": \"2022-02-16\", \"APR (%)\": 9.27, \"Staking Strategy\": \"LUNA native staking\"}, {\"Day\": \"2022-03-05\", \"APR (%)\": 6.93, \"Staking Strategy\": \"LUNA native staking\"}, {\"Day\": \"2022-03-17\", \"APR (%)\": 7.13, \"Staking Strategy\": \"LUNA native staking\"}, {\"Day\": \"2022-02-27\", \"APR (%)\": 7.93, \"Staking Strategy\": \"LUNA native staking\"}, {\"Day\": \"2022-02-23\", \"APR (%)\": 8.42, \"Staking Strategy\": \"LUNA native staking\"}, {\"Day\": \"2022-03-11\", \"APR (%)\": 7.17, \"Staking Strategy\": \"LUNA native staking\"}, {\"Day\": \"2022-03-08\", \"APR (%)\": 6.74, \"Staking Strategy\": \"LUNA native staking\"}, {\"Day\": \"2022-03-12\", \"APR (%)\": 7.19, \"Staking Strategy\": \"LUNA native staking\"}, {\"Day\": \"2022-03-10\", \"APR (%)\": 7.09, \"Staking Strategy\": \"LUNA native staking\"}, {\"Day\": \"2022-03-16\", \"APR (%)\": 7.13, \"Staking Strategy\": \"LUNA native staking\"}, {\"Day\": \"2022-03-14\", \"APR (%)\": 7.16, \"Staking Strategy\": \"LUNA native staking\"}, {\"Day\": \"2022-03-01\", \"APR (%)\": 7.55, \"Staking Strategy\": \"LUNA native staking\"}, {\"Day\": \"2022-03-13\", \"APR (%)\": 7.18, \"Staking Strategy\": \"LUNA native staking\"}, {\"Day\": \"2022-02-21\", \"APR (%)\": 9.01, \"Staking Strategy\": \"LUNA native staking\"}, {\"Day\": \"2022-03-06\", \"APR (%)\": 6.86, \"Staking Strategy\": \"LUNA native staking\"}, {\"Day\": \"2022-03-09\", \"APR (%)\": 7.11, \"Staking Strategy\": \"LUNA native staking\"}, {\"Day\": \"2022-02-14\", \"APR (%)\": 9.57, \"Staking Strategy\": \"LUNA native staking\"}, {\"Day\": \"2022-03-07\", \"APR (%)\": 6.81, \"Staking Strategy\": \"LUNA native staking\"}, {\"Day\": \"2022-03-03\", \"APR (%)\": 7.19, \"Staking Strategy\": \"LUNA native staking\"}, {\"Day\": \"2022-02-26\", \"APR (%)\": 8.04, \"Staking Strategy\": \"LUNA native staking\"}, {\"Day\": \"2022-02-17\", \"APR (%)\": 9.25, \"Staking Strategy\": \"LUNA native staking\"}, {\"Day\": \"2022-03-15\", \"APR (%)\": 7.15, \"Staking Strategy\": \"LUNA native staking\"}, {\"Day\": \"2022-02-18\", \"APR (%)\": 9.13, \"Staking Strategy\": \"LUNA native staking\"}, {\"Day\": \"2022-02-19\", \"APR (%)\": 0.0, \"Staking Strategy\": \"yLUNA staking in Prism Farm\"}, {\"Day\": \"2022-03-18\", \"APR (%)\": 40.76, \"Staking Strategy\": \"yLUNA staking in Prism Farm\"}, {\"Day\": \"2022-02-22\", \"APR (%)\": 0.0, \"Staking Strategy\": \"yLUNA staking in Prism Farm\"}, {\"Day\": \"2022-02-20\", \"APR (%)\": 0.0, \"Staking Strategy\": \"yLUNA staking in Prism Farm\"}, {\"Day\": \"2022-02-24\", \"APR (%)\": 0.0, \"Staking Strategy\": \"yLUNA staking in Prism Farm\"}, {\"Day\": \"2022-02-15\", \"APR (%)\": 0.0, \"Staking Strategy\": \"yLUNA staking in Prism Farm\"}, {\"Day\": \"2022-03-02\", \"APR (%)\": 0.0, \"Staking Strategy\": \"yLUNA staking in Prism Farm\"}, {\"Day\": \"2022-02-28\", \"APR (%)\": 0.0, \"Staking Strategy\": \"yLUNA staking in Prism Farm\"}, {\"Day\": \"2022-03-04\", \"APR (%)\": 0.0, \"Staking Strategy\": \"yLUNA staking in Prism Farm\"}, {\"Day\": \"2022-02-25\", \"APR (%)\": 0.0, \"Staking Strategy\": \"yLUNA staking in Prism Farm\"}, {\"Day\": \"2022-02-16\", \"APR (%)\": 0.0, \"Staking Strategy\": \"yLUNA staking in Prism Farm\"}, {\"Day\": \"2022-03-05\", \"APR (%)\": 0.0, \"Staking Strategy\": \"yLUNA staking in Prism Farm\"}, {\"Day\": \"2022-03-17\", \"APR (%)\": 40.62, \"Staking Strategy\": \"yLUNA staking in Prism Farm\"}, {\"Day\": \"2022-02-27\", \"APR (%)\": 0.0, \"Staking Strategy\": \"yLUNA staking in Prism Farm\"}, {\"Day\": \"2022-02-23\", \"APR (%)\": 0.0, \"Staking Strategy\": \"yLUNA staking in Prism Farm\"}, {\"Day\": \"2022-03-11\", \"APR (%)\": 35.51, \"Staking Strategy\": \"yLUNA staking in Prism Farm\"}, {\"Day\": \"2022-03-08\", \"APR (%)\": 51.81, \"Staking Strategy\": \"yLUNA staking in Prism Farm\"}, {\"Day\": \"2022-03-12\", \"APR (%)\": 43.74, \"Staking Strategy\": \"yLUNA staking in Prism Farm\"}, {\"Day\": \"2022-03-10\", \"APR (%)\": 40.88, \"Staking Strategy\": \"yLUNA staking in Prism Farm\"}, {\"Day\": \"2022-03-16\", \"APR (%)\": 39.32, \"Staking Strategy\": \"yLUNA staking in Prism Farm\"}, {\"Day\": \"2022-03-14\", \"APR (%)\": 36.11, \"Staking Strategy\": \"yLUNA staking in Prism Farm\"}, {\"Day\": \"2022-03-01\", \"APR (%)\": 0.0, \"Staking Strategy\": \"yLUNA staking in Prism Farm\"}, {\"Day\": \"2022-03-13\", \"APR (%)\": 36.39, \"Staking Strategy\": \"yLUNA staking in Prism Farm\"}, {\"Day\": \"2022-02-21\", \"APR (%)\": 0.0, \"Staking Strategy\": \"yLUNA staking in Prism Farm\"}, {\"Day\": \"2022-03-06\", \"APR (%)\": 0.0, \"Staking Strategy\": \"yLUNA staking in Prism Farm\"}, {\"Day\": \"2022-03-09\", \"APR (%)\": 43.91, \"Staking Strategy\": \"yLUNA staking in Prism Farm\"}, {\"Day\": \"2022-02-14\", \"APR (%)\": 0.0, \"Staking Strategy\": \"yLUNA staking in Prism Farm\"}, {\"Day\": \"2022-03-07\", \"APR (%)\": 64.15, \"Staking Strategy\": \"yLUNA staking in Prism Farm\"}, {\"Day\": \"2022-03-03\", \"APR (%)\": 0.0, \"Staking Strategy\": \"yLUNA staking in Prism Farm\"}, {\"Day\": \"2022-02-26\", \"APR (%)\": 0.0, \"Staking Strategy\": \"yLUNA staking in Prism Farm\"}, {\"Day\": \"2022-02-17\", \"APR (%)\": 0.0, \"Staking Strategy\": \"yLUNA staking in Prism Farm\"}, {\"Day\": \"2022-03-15\", \"APR (%)\": 37.58, \"Staking Strategy\": \"yLUNA staking in Prism Farm\"}, {\"Day\": \"2022-02-18\", \"APR (%)\": 0.0, \"Staking Strategy\": \"yLUNA staking in Prism Farm\"}]}}, {\"theme\": \"light\", \"mode\": \"vega-lite\"});\n",
       "</script>"
      ],
      "text/plain": [
       "alt.Chart(...)"
      ]
     },
     "execution_count": 140,
     "metadata": {},
     "output_type": "execute_result"
    }
   ],
   "source": [
    "APRSChart.chart(dp.aprs)"
   ]
  },
  {
   "cell_type": "code",
   "execution_count": null,
   "id": "b4f532e9",
   "metadata": {},
   "outputs": [],
   "source": []
  }
 ],
 "metadata": {
  "kernelspec": {
   "display_name": "Python 3 (ipykernel)",
   "language": "python",
   "name": "python3"
  },
  "language_info": {
   "codemirror_mode": {
    "name": "ipython",
    "version": 3
   },
   "file_extension": ".py",
   "mimetype": "text/x-python",
   "name": "python",
   "nbconvert_exporter": "python",
   "pygments_lexer": "ipython3",
   "version": "3.9.7"
  }
 },
 "nbformat": 4,
 "nbformat_minor": 5
}
