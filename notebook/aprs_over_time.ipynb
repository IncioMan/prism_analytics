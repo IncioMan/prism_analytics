{
 "cells": [
  {
   "cell_type": "code",
   "execution_count": 92,
   "id": "a7236a8b",
   "metadata": {},
   "outputs": [],
   "source": [
    "import pandas as pd\n",
    "import altair as alt\n",
    "import warnings\n",
    "import requests\n",
    "warnings.filterwarnings(\"ignore\")\n",
    "alt.renderers.set_embed_options(theme='light')\n",
    "pd.set_option(\"display.max_colwidth\", 400)\n",
    "pd.set_option(\"display.max_rows\", 400)\n"
   ]
  },
  {
   "cell_type": "code",
   "execution_count": 93,
   "id": "72c2f5d7",
   "metadata": {},
   "outputs": [],
   "source": [
    "def claim(claim_hash):\n",
    "    df = pd.read_json(\n",
    "            f\"https://api.flipsidecrypto.com/api/v2/queries/{claim_hash}/data/latest\",\n",
    "            convert_dates=[\"BLOCK_TIMESTAMP\"])\n",
    "    df.columns = [c.lower() for c in df.columns]\n",
    "    return df"
   ]
  },
  {
   "cell_type": "code",
   "execution_count": 138,
   "id": "e9cd6cc1",
   "metadata": {},
   "outputs": [],
   "source": [
    "class APRDataProvider:\n",
    "    \n",
    "    def __init__(self, claim):\n",
    "        self.yluna_price = 'e49168df-26f3-4972-b8c2-309e34e41072'\n",
    "        self.luna_price = '571e7540-b3cb-458f-82c3-43aae00feae7'\n",
    "        self.claim = claim\n",
    "        \n",
    "    def load(self):\n",
    "        yluna_price_df = self.claim(self.yluna_price)\n",
    "        yluna_price_df.columns = [c.lower() for c in yluna_price_df.columns]\n",
    "        luna_price_df = self.claim(self.luna_price)\n",
    "        luna_price_df.columns = [c.lower() for c in luna_price_df.columns]\n",
    "        luna_price_df = luna_price_df.rename(columns={'price':'luna_price'})\n",
    "        self.yluna_price_df = yluna_price_df\n",
    "        self.luna_price_df = luna_price_df\n",
    "        \n",
    "    def parse(self):\n",
    "        yluna = self.yluna_price_df[self.yluna_price_df.offer_asset=='yLuna']\n",
    "        prism = self.yluna_price_df[self.yluna_price_df.offer_asset=='PRISM']\n",
    "        df = yluna.merge(prism, on='day', suffixes=['_yluna','_prism'])\n",
    "        df['yluna_price'] = (1/df.belief_price_prism) / df.belief_price_yluna\n",
    "        prices = df\n",
    "        prices = prices.merge(self.luna_price_df, on='day')[['day','yluna_price','luna_price']]\n",
    "        prices['day'] = prices['day'].apply(lambda x: x[:-13])\n",
    "        self.prices = prices\n",
    "        \n",
    "        df = pd.DataFrame(requests.get('https://api.terra.dev/chart/staking-return/annualized').json())\n",
    "        df['date'] = pd.to_datetime(df['datetime'], unit='ms')\n",
    "        df = df[df['date'] > '2021-07-05 15:00:00']\n",
    "        df['day'] = df.date.apply(str)\n",
    "        df.value = df.value.apply(float).apply(lambda x: x*100)\n",
    "        self.staking_apr = df\n",
    "        self.staking_apr = self.staking_apr.rename(columns={'value':'apr'})\n",
    "        self.staking_apr['day'] = self.staking_apr['day'].apply(lambda x: x[:-9])\n",
    "        \n",
    "        prices_apr = self.prices.merge(self.staking_apr, on='day')\n",
    "        prices_apr['yluna_apr'] = prices_apr.apr * prices_apr.luna_price / prices_apr.yluna_price\n",
    "        yluna_apr = prices_apr[['day','yluna_apr']]\n",
    "        yluna_apr.columns = ['Day','APR (%)']\n",
    "        yluna_apr['Asset'] = 'yLUNA'\n",
    "        luna_apr = prices_apr[['day','apr']]\n",
    "        luna_apr.columns = ['Day','APR (%)']\n",
    "        luna_apr['Asset'] = 'LUNA'\n",
    "        self.aprs = yluna_apr.append(luna_apr)\n",
    "        self.aprs['APR (%)'] = self.aprs['APR (%)'].apply(lambda x: round(x,2))"
   ]
  },
  {
   "cell_type": "code",
   "execution_count": 142,
   "id": "cbb63b6a",
   "metadata": {},
   "outputs": [],
   "source": [
    "class APRSChart:\n",
    "    \n",
    "    def chart(aprs):\n",
    "        return alt.Chart(aprs).mark_line(point=True).encode(\n",
    "                 x=alt.X('Day:T', sort=alt.EncodingSortField(order='ascending')),\n",
    "                 y=\"APR (%):Q\",\n",
    "                color=alt.Color('Asset:N', \n",
    "                                scale=alt.Scale(scheme='set2'),\n",
    "                                legend=alt.Legend(\n",
    "                                        orient='top-right',\n",
    "                                        padding=5,\n",
    "                                        legendY=0,\n",
    "                                        direction='vertical')),\n",
    "                tooltip=[alt.Tooltip('Day:T', format='%Y-%m-%d'), 'Asset', 'APR (%)']\n",
    "            ).properties(width=700).configure_axisX(\n",
    "                labelAngle=0\n",
    "            ).configure_view(strokeOpacity=0)"
   ]
  },
  {
   "cell_type": "code",
   "execution_count": 141,
   "id": "c415f8d4",
   "metadata": {},
   "outputs": [],
   "source": [
    "dp = PriceDP(claim)\n",
    "dp.load()\n",
    "dp.parse()"
   ]
  },
  {
   "cell_type": "markdown",
   "id": "c48c5f2f",
   "metadata": {},
   "source": [
    "## Query"
   ]
  },
  {
   "cell_type": "code",
   "execution_count": 143,
   "id": "a81f2de3",
   "metadata": {},
   "outputs": [
    {
     "data": {
      "text/html": [
       "\n",
       "<div id=\"altair-viz-e958946379854fd49afd8a6d191aa5ef\"></div>\n",
       "<script type=\"text/javascript\">\n",
       "  var VEGA_DEBUG = (typeof VEGA_DEBUG == \"undefined\") ? {} : VEGA_DEBUG;\n",
       "  (function(spec, embedOpt){\n",
       "    let outputDiv = document.currentScript.previousElementSibling;\n",
       "    if (outputDiv.id !== \"altair-viz-e958946379854fd49afd8a6d191aa5ef\") {\n",
       "      outputDiv = document.getElementById(\"altair-viz-e958946379854fd49afd8a6d191aa5ef\");\n",
       "    }\n",
       "    const paths = {\n",
       "      \"vega\": \"https://cdn.jsdelivr.net/npm//vega@5?noext\",\n",
       "      \"vega-lib\": \"https://cdn.jsdelivr.net/npm//vega-lib?noext\",\n",
       "      \"vega-lite\": \"https://cdn.jsdelivr.net/npm//vega-lite@4.17.0?noext\",\n",
       "      \"vega-embed\": \"https://cdn.jsdelivr.net/npm//vega-embed@6?noext\",\n",
       "    };\n",
       "\n",
       "    function maybeLoadScript(lib, version) {\n",
       "      var key = `${lib.replace(\"-\", \"\")}_version`;\n",
       "      return (VEGA_DEBUG[key] == version) ?\n",
       "        Promise.resolve(paths[lib]) :\n",
       "        new Promise(function(resolve, reject) {\n",
       "          var s = document.createElement('script');\n",
       "          document.getElementsByTagName(\"head\")[0].appendChild(s);\n",
       "          s.async = true;\n",
       "          s.onload = () => {\n",
       "            VEGA_DEBUG[key] = version;\n",
       "            return resolve(paths[lib]);\n",
       "          };\n",
       "          s.onerror = () => reject(`Error loading script: ${paths[lib]}`);\n",
       "          s.src = paths[lib];\n",
       "        });\n",
       "    }\n",
       "\n",
       "    function showError(err) {\n",
       "      outputDiv.innerHTML = `<div class=\"error\" style=\"color:red;\">${err}</div>`;\n",
       "      throw err;\n",
       "    }\n",
       "\n",
       "    function displayChart(vegaEmbed) {\n",
       "      vegaEmbed(outputDiv, spec, embedOpt)\n",
       "        .catch(err => showError(`Javascript Error: ${err.message}<br>This usually means there's a typo in your chart specification. See the javascript console for the full traceback.`));\n",
       "    }\n",
       "\n",
       "    if(typeof define === \"function\" && define.amd) {\n",
       "      requirejs.config({paths});\n",
       "      require([\"vega-embed\"], displayChart, err => showError(`Error loading script: ${err.message}`));\n",
       "    } else {\n",
       "      maybeLoadScript(\"vega\", \"5\")\n",
       "        .then(() => maybeLoadScript(\"vega-lite\", \"4.17.0\"))\n",
       "        .then(() => maybeLoadScript(\"vega-embed\", \"6\"))\n",
       "        .catch(showError)\n",
       "        .then(() => displayChart(vegaEmbed));\n",
       "    }\n",
       "  })({\"config\": {\"view\": {\"continuousWidth\": 400, \"continuousHeight\": 300, \"strokeOpacity\": 0}, \"axisX\": {\"labelAngle\": 0}}, \"data\": {\"name\": \"data-b476cb6b89d79e226e4072ab4edbdaa0\"}, \"mark\": {\"type\": \"line\", \"point\": true}, \"encoding\": {\"color\": {\"field\": \"Asset\", \"legend\": {\"direction\": \"vertical\", \"legendY\": 0, \"orient\": \"top-right\", \"padding\": 5}, \"scale\": {\"scheme\": \"set2\"}, \"type\": \"nominal\"}, \"tooltip\": [{\"field\": \"Day\", \"format\": \"%Y-%m-%d\", \"type\": \"temporal\"}, {\"field\": \"Asset\", \"type\": \"nominal\"}, {\"field\": \"APR (%)\", \"type\": \"quantitative\"}], \"x\": {\"field\": \"Day\", \"sort\": {\"order\": \"ascending\"}, \"type\": \"temporal\"}, \"y\": {\"field\": \"APR (%)\", \"type\": \"quantitative\"}}, \"width\": 700, \"$schema\": \"https://vega.github.io/schema/vega-lite/v4.17.0.json\", \"datasets\": {\"data-b476cb6b89d79e226e4072ab4edbdaa0\": [{\"Day\": \"2022-02-20\", \"APR (%)\": 12.572496641185895, \"Asset\": \"yLUNA\"}, {\"Day\": \"2022-02-19\", \"APR (%)\": 12.605146293507612, \"Asset\": \"yLUNA\"}, {\"Day\": \"2022-03-08\", \"APR (%)\": 7.861284225103934, \"Asset\": \"yLUNA\"}, {\"Day\": \"2022-03-11\", \"APR (%)\": 9.163920599156308, \"Asset\": \"yLUNA\"}, {\"Day\": \"2022-03-12\", \"APR (%)\": 9.12527498161459, \"Asset\": \"yLUNA\"}, {\"Day\": \"2022-02-16\", \"APR (%)\": 13.534539708776247, \"Asset\": \"yLUNA\"}, {\"Day\": \"2022-03-05\", \"APR (%)\": 8.37697200885663, \"Asset\": \"yLUNA\"}, {\"Day\": \"2022-03-06\", \"APR (%)\": 8.390691368210609, \"Asset\": \"yLUNA\"}, {\"Day\": \"2022-03-09\", \"APR (%)\": 8.391333286901563, \"Asset\": \"yLUNA\"}, {\"Day\": \"2022-02-17\", \"APR (%)\": 13.77327873403704, \"Asset\": \"yLUNA\"}, {\"Day\": \"2022-02-26\", \"APR (%)\": 10.285543197989922, \"Asset\": \"yLUNA\"}, {\"Day\": \"2022-03-07\", \"APR (%)\": 8.197506864039642, \"Asset\": \"yLUNA\"}, {\"Day\": \"2022-03-18\", \"APR (%)\": 9.490291719388027, \"Asset\": \"yLUNA\"}, {\"Day\": \"2022-03-03\", \"APR (%)\": 9.032276168656155, \"Asset\": \"yLUNA\"}, {\"Day\": \"2022-02-22\", \"APR (%)\": 12.026809411304761, \"Asset\": \"yLUNA\"}, {\"Day\": \"2022-03-17\", \"APR (%)\": 9.358748741002882, \"Asset\": \"yLUNA\"}, {\"Day\": \"2022-02-18\", \"APR (%)\": 12.744901519938166, \"Asset\": \"yLUNA\"}, {\"Day\": \"2022-03-02\", \"APR (%)\": 9.669548687258269, \"Asset\": \"yLUNA\"}, {\"Day\": \"2022-02-15\", \"APR (%)\": 14.376285628493186, \"Asset\": \"yLUNA\"}, {\"Day\": \"2022-02-24\", \"APR (%)\": 10.866048970340445, \"Asset\": \"yLUNA\"}, {\"Day\": \"2022-02-23\", \"APR (%)\": 11.112309322381485, \"Asset\": \"yLUNA\"}, {\"Day\": \"2022-02-27\", \"APR (%)\": 10.060775382581443, \"Asset\": \"yLUNA\"}, {\"Day\": \"2022-02-25\", \"APR (%)\": 10.613250282855795, \"Asset\": \"yLUNA\"}, {\"Day\": \"2022-02-28\", \"APR (%)\": 9.349293790330373, \"Asset\": \"yLUNA\"}, {\"Day\": \"2022-03-04\", \"APR (%)\": 8.914110729905614, \"Asset\": \"yLUNA\"}, {\"Day\": \"2022-03-10\", \"APR (%)\": 8.289192149353635, \"Asset\": \"yLUNA\"}, {\"Day\": \"2022-03-13\", \"APR (%)\": 9.151758538029853, \"Asset\": \"yLUNA\"}, {\"Day\": \"2022-02-21\", \"APR (%)\": 12.204563293115804, \"Asset\": \"yLUNA\"}, {\"Day\": \"2022-03-14\", \"APR (%)\": 9.107659478595131, \"Asset\": \"yLUNA\"}, {\"Day\": \"2022-03-16\", \"APR (%)\": 9.475708559880514, \"Asset\": \"yLUNA\"}, {\"Day\": \"2022-03-15\", \"APR (%)\": 9.251498131764738, \"Asset\": \"yLUNA\"}, {\"Day\": \"2022-02-14\", \"APR (%)\": 20.019968904133965, \"Asset\": \"yLUNA\"}, {\"Day\": \"2022-03-01\", \"APR (%)\": 9.23673705061505, \"Asset\": \"yLUNA\"}, {\"Day\": \"2022-02-20\", \"APR (%)\": 9.06591446955722, \"Asset\": \"LUNA\"}, {\"Day\": \"2022-02-19\", \"APR (%)\": 9.110989417073162, \"Asset\": \"LUNA\"}, {\"Day\": \"2022-03-08\", \"APR (%)\": 6.740162722440834, \"Asset\": \"LUNA\"}, {\"Day\": \"2022-03-11\", \"APR (%)\": 7.167087451514869, \"Asset\": \"LUNA\"}, {\"Day\": \"2022-03-12\", \"APR (%)\": 7.187391097598658, \"Asset\": \"LUNA\"}, {\"Day\": \"2022-02-16\", \"APR (%)\": 9.269486098843064, \"Asset\": \"LUNA\"}, {\"Day\": \"2022-03-05\", \"APR (%)\": 6.932067730925478, \"Asset\": \"LUNA\"}, {\"Day\": \"2022-03-06\", \"APR (%)\": 6.855740284343178, \"Asset\": \"LUNA\"}, {\"Day\": \"2022-03-09\", \"APR (%)\": 7.109140119578794, \"Asset\": \"LUNA\"}, {\"Day\": \"2022-02-17\", \"APR (%)\": 9.245973966346984, \"Asset\": \"LUNA\"}, {\"Day\": \"2022-02-26\", \"APR (%)\": 8.040467677469538, \"Asset\": \"LUNA\"}, {\"Day\": \"2022-03-07\", \"APR (%)\": 6.81135800269274, \"Asset\": \"LUNA\"}, {\"Day\": \"2022-03-18\", \"APR (%)\": 7.163487472367569, \"Asset\": \"LUNA\"}, {\"Day\": \"2022-03-03\", \"APR (%)\": 7.188218651980398, \"Asset\": \"LUNA\"}, {\"Day\": \"2022-02-22\", \"APR (%)\": 8.929043258948182, \"Asset\": \"LUNA\"}, {\"Day\": \"2022-03-17\", \"APR (%)\": 7.134311955168918, \"Asset\": \"LUNA\"}, {\"Day\": \"2022-02-18\", \"APR (%)\": 9.129198151073247, \"Asset\": \"LUNA\"}, {\"Day\": \"2022-03-02\", \"APR (%)\": 7.360685248627517, \"Asset\": \"LUNA\"}, {\"Day\": \"2022-02-15\", \"APR (%)\": 9.542593763033635, \"Asset\": \"LUNA\"}, {\"Day\": \"2022-02-24\", \"APR (%)\": 8.322003269888752, \"Asset\": \"LUNA\"}, {\"Day\": \"2022-02-23\", \"APR (%)\": 8.422739416596938, \"Asset\": \"LUNA\"}, {\"Day\": \"2022-02-27\", \"APR (%)\": 7.925045548733702, \"Asset\": \"LUNA\"}, {\"Day\": \"2022-02-25\", \"APR (%)\": 8.207306407843117, \"Asset\": \"LUNA\"}, {\"Day\": \"2022-02-28\", \"APR (%)\": 7.7504402550478275, \"Asset\": \"LUNA\"}, {\"Day\": \"2022-03-04\", \"APR (%)\": 7.054812965474758, \"Asset\": \"LUNA\"}, {\"Day\": \"2022-03-10\", \"APR (%)\": 7.085917031185089, \"Asset\": \"LUNA\"}, {\"Day\": \"2022-03-13\", \"APR (%)\": 7.180337504987606, \"Asset\": \"LUNA\"}, {\"Day\": \"2022-02-21\", \"APR (%)\": 9.009207300553173, \"Asset\": \"LUNA\"}, {\"Day\": \"2022-03-14\", \"APR (%)\": 7.16051200607384, \"Asset\": \"LUNA\"}, {\"Day\": \"2022-03-16\", \"APR (%)\": 7.130842702631461, \"Asset\": \"LUNA\"}, {\"Day\": \"2022-03-15\", \"APR (%)\": 7.1513696317968805, \"Asset\": \"LUNA\"}, {\"Day\": \"2022-02-14\", \"APR (%)\": 9.566243558496906, \"Asset\": \"LUNA\"}, {\"Day\": \"2022-03-01\", \"APR (%)\": 7.551346282198904, \"Asset\": \"LUNA\"}]}}, {\"theme\": \"light\", \"mode\": \"vega-lite\"});\n",
       "</script>"
      ],
      "text/plain": [
       "alt.Chart(...)"
      ]
     },
     "execution_count": 143,
     "metadata": {},
     "output_type": "execute_result"
    }
   ],
   "source": [
    "APRSChart.chart(dp.aprs)"
   ]
  },
  {
   "cell_type": "code",
   "execution_count": null,
   "id": "b4f532e9",
   "metadata": {},
   "outputs": [],
   "source": []
  }
 ],
 "metadata": {
  "kernelspec": {
   "display_name": "Python 3 (ipykernel)",
   "language": "python",
   "name": "python3"
  },
  "language_info": {
   "codemirror_mode": {
    "name": "ipython",
    "version": 3
   },
   "file_extension": ".py",
   "mimetype": "text/x-python",
   "name": "python",
   "nbconvert_exporter": "python",
   "pygments_lexer": "ipython3",
   "version": "3.8.2"
  }
 },
 "nbformat": 4,
 "nbformat_minor": 5
}
